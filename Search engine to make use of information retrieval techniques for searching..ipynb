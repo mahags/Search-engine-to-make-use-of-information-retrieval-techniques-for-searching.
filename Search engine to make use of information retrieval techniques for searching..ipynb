{
 "cells": [
  {
   "cell_type": "code",
   "execution_count": 7,
   "id": "7f69bd6d",
   "metadata": {},
   "outputs": [
    {
     "name": "stdout",
     "output_type": "stream",
     "text": [
      "Enter the query :about\n",
      "Search results for: about\n"
     ]
    }
   ],
   "source": [
    "def create_index(documents):\n",
    "  \"\"\"\n",
    "  Creates an inverted index for searching documents.\n",
    "\n",
    "  Args:\n",
    "      documents: A list of documents (strings) to be indexed.\n",
    "\n",
    "  Returns:\n",
    "      A dictionary representing the inverted index.\n",
    "  \"\"\"\n",
    "  inverted_index = {}\n",
    "  for i, document in enumerate(documents):\n",
    "    words = set(document.lower().split())  # Convert to lowercase and split into words\n",
    "    for word in words:\n",
    "      if word in inverted_index:\n",
    "        inverted_index[word].append(i)  # Add document ID to existing word list\n",
    "      else:\n",
    "        inverted_index[word] = [i]  # Create a new list for the word\n",
    "  return inverted_index\n",
    "\n",
    "def search(inverted_index, query):\n",
    "  \"\"\"\n",
    "  Performs a search using the inverted index.\n",
    "\n",
    "  Args:\n",
    "      inverted_index: The inverted index created from documents.\n",
    "      query: The search query (string).\n",
    "\n",
    "  Returns:\n",
    "      A list of document IDs that match the query.\n",
    "  \"\"\"\n",
    "  query_words = set(query.lower().split())\n",
    "  matching_documents = set()\n",
    "  for word in query_words:\n",
    "    # Get the list of document IDs for the current word (or empty set if not found)\n",
    "    word_documents = inverted_index.get(word, set())\n",
    "    # Update matching_documents using set intersection\n",
    "    matching_documents = matching_documents.intersection(word_documents)\n",
    "  return list(matching_documents)\n",
    "\n",
    "# Example usage\n",
    "documents = [\"This is a sample document about technology\",\n",
    "              \"This is another document about cars\",\n",
    "              \"I love animals, especially dogs\"]\n",
    "\n",
    "inverted_index = create_index(documents)\n",
    "\n",
    "query = input(\"Enter the query :\")\n",
    "results = search(inverted_index, query)\n",
    "\n",
    "print(\"Search results for:\", query)\n",
    "for document_id in results:\n",
    "  print(f\"- Document {document_id+1}\")  # Assuming document IDs start from 0\n"
   ]
  },
  {
   "cell_type": "code",
   "execution_count": null,
   "id": "04c273d4",
   "metadata": {},
   "outputs": [],
   "source": []
  }
 ],
 "metadata": {
  "kernelspec": {
   "display_name": "Python 3 (ipykernel)",
   "language": "python",
   "name": "python3"
  },
  "language_info": {
   "codemirror_mode": {
    "name": "ipython",
    "version": 3
   },
   "file_extension": ".py",
   "mimetype": "text/x-python",
   "name": "python",
   "nbconvert_exporter": "python",
   "pygments_lexer": "ipython3",
   "version": "3.10.9"
  }
 },
 "nbformat": 4,
 "nbformat_minor": 5
}
